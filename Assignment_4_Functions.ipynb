{
  "nbformat": 4,
  "nbformat_minor": 0,
  "metadata": {
    "colab": {
      "name": "Assignment 4 Functions.ipynb",
      "provenance": [],
      "collapsed_sections": [],
      "authorship_tag": "ABX9TyPvVwlvu2nYGpZKYphR72ww",
      "include_colab_link": true
    },
    "kernelspec": {
      "name": "python3",
      "display_name": "Python 3"
    },
    "language_info": {
      "name": "python"
    }
  },
  "cells": [
    {
      "cell_type": "markdown",
      "metadata": {
        "id": "view-in-github",
        "colab_type": "text"
      },
      "source": [
        "<a href=\"https://colab.research.google.com/github/alekhyabobba/Assignments/blob/main/Assignment_4_Functions.ipynb\" target=\"_parent\"><img src=\"https://colab.research.google.com/assets/colab-badge.svg\" alt=\"Open In Colab\"/></a>"
      ]
    },
    {
      "cell_type": "code",
      "execution_count": 1,
      "metadata": {
        "id": "YMgxfDFq1TXK"
      },
      "outputs": [],
      "source": [
        "#1.1 Write a Python Program(with class concepts) to find the area of the triangle using the below\n",
        "#formula.\n",
        "#area = (s*(s-a)*(s-b)*(s-c)) ** 0.5\n",
        "#Function to take the length of the sides of triangle from user should be defined in the parent\n",
        "#class and function to calculate the area should be defined in subclass."
      ]
    },
    {
      "cell_type": "code",
      "source": [
        "def area_tr(a,b,c):\n",
        "  s = (a+b+c)/2\n",
        "  area = ((s*(s-a)*(s-b)*(s-c))**0.5)\n",
        "  return area"
      ],
      "metadata": {
        "id": "DJbUkjlG1eY9"
      },
      "execution_count": 2,
      "outputs": []
    },
    {
      "cell_type": "code",
      "source": [
        "area_tr(3,3,3)"
      ],
      "metadata": {
        "colab": {
          "base_uri": "https://localhost:8080/"
        },
        "id": "yZ-Bc2wV1h7g",
        "outputId": "939c1fc2-332f-462b-f747-94c6ed39c5df"
      },
      "execution_count": 3,
      "outputs": [
        {
          "output_type": "execute_result",
          "data": {
            "text/plain": [
              "3.897114317029974"
            ]
          },
          "metadata": {},
          "execution_count": 3
        }
      ]
    },
    {
      "cell_type": "code",
      "source": [
        "  #1.2 Write a function filter_long_words() that takes a list of words and an integer n and returns\n",
        "#the list of words that are longer than n."
      ],
      "metadata": {
        "id": "YyBkVFl01i3G"
      },
      "execution_count": 1,
      "outputs": []
    },
    {
      "cell_type": "code",
      "source": [
        "def filter_long_words(list_inp,n):\n",
        "  list_final = []\n",
        "  for wrd in list_inp:\n",
        "    if len(wrd) > n:\n",
        "      list_final.append(wrd)\n",
        "  return list_final"
      ],
      "metadata": {
        "id": "eoOwl0Hy0M0b"
      },
      "execution_count": 2,
      "outputs": []
    },
    {
      "cell_type": "code",
      "source": [
        "list_inp = [\"asdsa\",\"asdasd\",\"a\"]\n",
        "filter_long_words(list_inp,2)"
      ],
      "metadata": {
        "colab": {
          "base_uri": "https://localhost:8080/"
        },
        "id": "KFiqAPbw0Qiq",
        "outputId": "414e0285-c191-46c2-ac03-e48eb1844c12"
      },
      "execution_count": 4,
      "outputs": [
        {
          "output_type": "execute_result",
          "data": {
            "text/plain": [
              "['asdsa', 'asdasd']"
            ]
          },
          "metadata": {},
          "execution_count": 4
        }
      ]
    },
    {
      "cell_type": "code",
      "source": [
        "#2.1 Write a Python program using function concept that maps list of words into a list of integers\n",
        "#representing the lengths of the corresponding words.\n",
        "#Hint: If a list [ ab,cde,erty] is passed on to the python function output should come as [2,3,4]\n",
        "#Here 2,3 and 4 are the lengths of the words in the list."
      ],
      "metadata": {
        "id": "RMx1pzGq0T_x"
      },
      "execution_count": 5,
      "outputs": []
    },
    {
      "cell_type": "code",
      "source": [
        "def length_list(list_inp):\n",
        "  list_len = []\n",
        "  for  i in list_inp:\n",
        "    list_len.append(len(i))\n",
        "  return list_len"
      ],
      "metadata": {
        "id": "F0MghSbZ0g6R"
      },
      "execution_count": 10,
      "outputs": []
    },
    {
      "cell_type": "code",
      "source": [
        "list_inp = [\"ab\",\"cd\",'e',\"dfsdfg\"]\n",
        "length_list(list_inp)"
      ],
      "metadata": {
        "colab": {
          "base_uri": "https://localhost:8080/"
        },
        "id": "nQCZEXsZ0tH4",
        "outputId": "f228b3c8-47ac-4b0a-ac50-46f64443889b"
      },
      "execution_count": 12,
      "outputs": [
        {
          "output_type": "execute_result",
          "data": {
            "text/plain": [
              "[2, 2, 1, 6]"
            ]
          },
          "metadata": {},
          "execution_count": 12
        }
      ]
    },
    {
      "cell_type": "code",
      "source": [
        "#2.2 Write a Python function which takes a character (i.e. a string of length 1) and returns True if\n",
        "#it is a vowel, False otherwise."
      ],
      "metadata": {
        "id": "6RoAw-JO05P6"
      },
      "execution_count": 13,
      "outputs": []
    },
    {
      "cell_type": "code",
      "source": [
        "def vowel_check(inp):\n",
        "  if inp in ('a','e','i','o','u'):\n",
        "    return True\n",
        "  else :\n",
        "    return False"
      ],
      "metadata": {
        "id": "NR9M1qhA1bYC"
      },
      "execution_count": 14,
      "outputs": []
    },
    {
      "cell_type": "code",
      "source": [
        "vowel_check('a')"
      ],
      "metadata": {
        "colab": {
          "base_uri": "https://localhost:8080/"
        },
        "id": "cHHNUWuu1wHo",
        "outputId": "5c9c44fc-5829-4329-9ccd-423c08d60e35"
      },
      "execution_count": 16,
      "outputs": [
        {
          "output_type": "execute_result",
          "data": {
            "text/plain": [
              "True"
            ]
          },
          "metadata": {},
          "execution_count": 16
        }
      ]
    },
    {
      "cell_type": "code",
      "source": [
        "vowel_check('b')"
      ],
      "metadata": {
        "colab": {
          "base_uri": "https://localhost:8080/"
        },
        "id": "sMXA0M6P1yS5",
        "outputId": "f1b4dbab-7132-4399-f70a-2b6498f2865a"
      },
      "execution_count": 18,
      "outputs": [
        {
          "output_type": "execute_result",
          "data": {
            "text/plain": [
              "False"
            ]
          },
          "metadata": {},
          "execution_count": 18
        }
      ]
    },
    {
      "cell_type": "code",
      "source": [
        ""
      ],
      "metadata": {
        "id": "zh0qlmlN13LY"
      },
      "execution_count": null,
      "outputs": []
    }
  ]
}