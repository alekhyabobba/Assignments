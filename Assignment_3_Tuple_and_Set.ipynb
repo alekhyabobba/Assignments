{
  "nbformat": 4,
  "nbformat_minor": 0,
  "metadata": {
    "colab": {
      "name": "Assignment 3 Tuple and Set.ipynb",
      "provenance": [],
      "collapsed_sections": [],
      "authorship_tag": "ABX9TyNlRp63+3juuTI5I7MR6pBg",
      "include_colab_link": true
    },
    "kernelspec": {
      "name": "python3",
      "display_name": "Python 3"
    },
    "language_info": {
      "name": "python"
    }
  },
  "cells": [
    {
      "cell_type": "markdown",
      "metadata": {
        "id": "view-in-github",
        "colab_type": "text"
      },
      "source": [
        "<a href=\"https://colab.research.google.com/github/alekhyabobba/Assignments/blob/main/Assignment_3_Tuple_and_Set.ipynb\" target=\"_parent\"><img src=\"https://colab.research.google.com/assets/colab-badge.svg\" alt=\"Open In Colab\"/></a>"
      ]
    },
    {
      "cell_type": "code",
      "execution_count": 1,
      "metadata": {
        "id": "T5YWiCHDg2vG"
      },
      "outputs": [],
      "source": [
        "#1.1 Write a Python Program to implement your own myreduce() function which works exactly\n",
        "#like Python's built-in function reduce()"
      ]
    },
    {
      "cell_type": "code",
      "source": [
        "def myreduce(fun,seq):\n",
        "  seq_iter = iter(seq)\n",
        "  out = next(seq_iter)\n",
        "  for i in seq_iter:\n",
        "    out = fun(i,out)\n",
        "  return out"
      ],
      "metadata": {
        "id": "ZHdATNvAhOBT"
      },
      "execution_count": 2,
      "outputs": []
    },
    {
      "cell_type": "code",
      "source": [
        "## Finding sum using myreduce function\n",
        "lis = [1,2,3,4]\n",
        "sum = myreduce(lambda a,b:a+b,lis)\n",
        "print(sum)"
      ],
      "metadata": {
        "colab": {
          "base_uri": "https://localhost:8080/"
        },
        "id": "RESpj6OyhRM6",
        "outputId": "d3467f6d-cc1e-4ab8-a2f9-9235cc7d3235"
      },
      "execution_count": 5,
      "outputs": [
        {
          "output_type": "stream",
          "name": "stdout",
          "text": [
            "10\n"
          ]
        }
      ]
    },
    {
      "cell_type": "code",
      "source": [
        "## Finding maximum in list using myreduce function\n",
        "lis = [5,6,7,8]\n",
        "max = myreduce(lambda a,b:a if a>b else b,lis)\n",
        "print(max)"
      ],
      "metadata": {
        "colab": {
          "base_uri": "https://localhost:8080/"
        },
        "id": "Qz8SwyHThYnJ",
        "outputId": "5e198bc5-8d3e-44f7-d484-ee92bd7a92da"
      },
      "execution_count": 6,
      "outputs": [
        {
          "output_type": "stream",
          "name": "stdout",
          "text": [
            "8\n"
          ]
        }
      ]
    },
    {
      "cell_type": "code",
      "source": [
        "#1.2 Write a Python program to implement your own myfilter() function which works exactly\n",
        "#like Python's built-in function filter()"
      ],
      "metadata": {
        "id": "tTmks6TshaIJ"
      },
      "execution_count": 7,
      "outputs": []
    },
    {
      "cell_type": "code",
      "source": [
        " def my_filter(fun,seq):\n",
        "  final = []\n",
        "  seq_iter = iter(seq)\n",
        "  for i in seq_iter:\n",
        "    res = fun(i)\n",
        "    if res == True:\n",
        "      final.append(i)\n",
        "  return final"
      ],
      "metadata": {
        "id": "OG1KR4A18xMp"
      },
      "execution_count": 8,
      "outputs": []
    },
    {
      "cell_type": "code",
      "source": [
        "# Return even numbers from the list\n",
        "filtered = my_filter(lambda a:a%2 == 0,[1,2,3,4])\n",
        "print(filtered)"
      ],
      "metadata": {
        "colab": {
          "base_uri": "https://localhost:8080/"
        },
        "id": "YzTlMBHL80-k",
        "outputId": "be02f295-2877-41f7-9620-93a75445818f"
      },
      "execution_count": 9,
      "outputs": [
        {
          "output_type": "stream",
          "name": "stdout",
          "text": [
            "[2, 4]\n"
          ]
        }
      ]
    },
    {
      "cell_type": "code",
      "source": [
        "# Function to check if given alphabet is a vowel or not \n",
        "def vowel_letter(alphabet):\n",
        "  vowel_list = ['a','e','i','o','u']\n",
        "  if (alphabet in vowel_list):\n",
        "    return True\n",
        "  else :\n",
        "    return False"
      ],
      "metadata": {
        "id": "SzeiHbWJ9Bsw"
      },
      "execution_count": 10,
      "outputs": []
    },
    {
      "cell_type": "code",
      "source": [
        "# Find vowel letters from the list\n",
        "list = ['b','c','o','u']\n",
        "filtered = my_filter(vowel_letter,list)\n",
        "print(filtered)"
      ],
      "metadata": {
        "colab": {
          "base_uri": "https://localhost:8080/"
        },
        "id": "OzHadnNI9Ias",
        "outputId": "4ce1c69e-de58-493f-86ab-29c9a9091fff"
      },
      "execution_count": 13,
      "outputs": [
        {
          "output_type": "stream",
          "name": "stdout",
          "text": [
            "['o', 'u']\n"
          ]
        }
      ]
    },
    {
      "cell_type": "code",
      "source": [
        "#2.Implement List comprehensions to produce the following lists.\n",
        "#Write List comprehensions to produce the following Lists\n",
        "#['x', 'xx', 'xxx', 'xxxx', 'y', 'yy', 'yyy', 'yyyy', 'z', 'zz', 'zzz', 'zzzz']\n",
        "#['x', 'y', 'z', 'xx', 'yy', 'zz', 'xxx', 'yyy', 'zzz', 'xxxx', 'yyyy', 'zzzz']\n",
        "#[[2], [3], [4], [3], [4], [5], [4], [5], [6]] [[2, 3, 4, 5], [3, 4, 5, 6],\n",
        "#[4, 5, 6, 7], [5, 6, 7, 8]]\n",
        "#[(1, 1), (2, 1), (3, 1), (1, 2), (2, 2), (3, 2), (1, 3), (2, 3), (3, 3)]"
      ],
      "metadata": {
        "id": "V6Ee_4ZL9MCI"
      },
      "execution_count": 14,
      "outputs": []
    },
    {
      "cell_type": "code",
      "source": [
        "list_cmpr1 = [a*i for i in range(1,5) for a in ['x','y','z']]\n",
        "print(list_cmpr1)"
      ],
      "metadata": {
        "colab": {
          "base_uri": "https://localhost:8080/"
        },
        "id": "RdmrzFrGPanS",
        "outputId": "6f1bae89-4d0d-477e-a2d3-4ee6f9700f13"
      },
      "execution_count": 15,
      "outputs": [
        {
          "output_type": "stream",
          "name": "stdout",
          "text": [
            "['x', 'y', 'z', 'xx', 'yy', 'zz', 'xxx', 'yyy', 'zzz', 'xxxx', 'yyyy', 'zzzz']\n"
          ]
        }
      ]
    },
    {
      "cell_type": "code",
      "source": [
        "list_cmpr2 =  [a*i for a in ['x','y','z'] for i in range(1,5)]\n",
        "print(list_cmpr2)"
      ],
      "metadata": {
        "colab": {
          "base_uri": "https://localhost:8080/"
        },
        "id": "qjpjKQiVPcgd",
        "outputId": "19fa7b35-8472-495f-ac26-e19aea18fd46"
      },
      "execution_count": 16,
      "outputs": [
        {
          "output_type": "stream",
          "name": "stdout",
          "text": [
            "['x', 'xx', 'xxx', 'xxxx', 'y', 'yy', 'yyy', 'yyyy', 'z', 'zz', 'zzz', 'zzzz']\n"
          ]
        }
      ]
    },
    {
      "cell_type": "code",
      "source": [
        "list_cmpr3 = [(a,b) for b in range(1,4) for a in range(1,4)]\n",
        "print(list_cmpr3)"
      ],
      "metadata": {
        "colab": {
          "base_uri": "https://localhost:8080/"
        },
        "id": "fq4CSnZ_PeIs",
        "outputId": "3c034653-fbfa-4b29-b4e2-912478a17135"
      },
      "execution_count": 17,
      "outputs": [
        {
          "output_type": "stream",
          "name": "stdout",
          "text": [
            "[(1, 1), (2, 1), (3, 1), (1, 2), (2, 2), (3, 2), (1, 3), (2, 3), (3, 3)]\n"
          ]
        }
      ]
    },
    {
      "cell_type": "code",
      "source": [
        "list_cmpr4 = [[a,a+1,a+2,a+3] for a in range(2,6)]\n",
        "print(list_cmpr4)"
      ],
      "metadata": {
        "colab": {
          "base_uri": "https://localhost:8080/"
        },
        "id": "Hv-P2udIPggj",
        "outputId": "85bf62e7-7a87-48a6-8ef8-db0d13027ebd"
      },
      "execution_count": 18,
      "outputs": [
        {
          "output_type": "stream",
          "name": "stdout",
          "text": [
            "[[2, 3, 4, 5], [3, 4, 5, 6], [4, 5, 6, 7], [5, 6, 7, 8]]\n"
          ]
        }
      ]
    },
    {
      "cell_type": "code",
      "source": [
        "list_cmpr5 = []\n",
        "list_cmpr5 = [[[a],[a+1],[a+2]] for a in range(2,5)]\n",
        "print(list_cmpr5)"
      ],
      "metadata": {
        "colab": {
          "base_uri": "https://localhost:8080/"
        },
        "id": "grmBypRLPiHG",
        "outputId": "9fda2dd6-6efc-4c82-e10e-758efad3b738"
      },
      "execution_count": 21,
      "outputs": [
        {
          "output_type": "stream",
          "name": "stdout",
          "text": [
            "[[[2], [3], [4]], [[3], [4], [5]], [[4], [5], [6]]]\n"
          ]
        }
      ]
    },
    {
      "cell_type": "code",
      "source": [
        "list_cmpr5 =[]\n",
        "for i in range(2,5):\n",
        "  list_cmpr5.extend([[i],[i+1],[i+2]])\n",
        "\n",
        "print(list_cmpr5)"
      ],
      "metadata": {
        "colab": {
          "base_uri": "https://localhost:8080/"
        },
        "id": "1tmSmR_3PoCc",
        "outputId": "bd011c15-3737-4500-bb99-c187b487c999"
      },
      "execution_count": 22,
      "outputs": [
        {
          "output_type": "stream",
          "name": "stdout",
          "text": [
            "[[2], [3], [4], [3], [4], [5], [4], [5], [6]]\n"
          ]
        }
      ]
    },
    {
      "cell_type": "code",
      "source": [
        ""
      ],
      "metadata": {
        "id": "HBENbtq0PzEp"
      },
      "execution_count": null,
      "outputs": []
    }
  ]
}