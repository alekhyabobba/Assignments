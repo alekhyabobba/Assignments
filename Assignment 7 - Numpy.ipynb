{
 "cells": [
  {
   "cell_type": "markdown",
   "id": "e51670e4",
   "metadata": {},
   "source": [
    "1.Write a function so that the columns of the output matrix are powers of the input\n",
    "vector.\n",
    "The order of the powers is determined by the increasing boolean argument. Specifically, when\n",
    "increasing is False, the i-th output column is the input vector raised element-wise to the power\n",
    "of N - i - 1.\n",
    "HINT: Such a matrix with a geometric progression in each row is named for Alexandre-\n",
    "Theophile Vandermonde."
   ]
  },
  {
   "cell_type": "code",
   "execution_count": 48,
   "id": "31b54095",
   "metadata": {},
   "outputs": [],
   "source": [
    "def AlexandreTheophileVandermode(inp,increasing = False):\n",
    "    N = len(inp)\n",
    "    output = np.empty((N,N),dtype=object)\n",
    "    if(increasing == False):\n",
    "        for i in range(N):\n",
    "            for j in range(N):\n",
    "                pv = N-j-1\n",
    "                output[i][j]= inp[i]**pv\n",
    "    else:\n",
    "        for i in range(N):\n",
    "            for j in range(N):\n",
    "                pv = j\n",
    "                output[i][j]= inp[i]**pv\n",
    "    return output"
   ]
  },
  {
   "cell_type": "code",
   "execution_count": 49,
   "id": "e63dedb2",
   "metadata": {},
   "outputs": [
    {
     "data": {
      "text/plain": [
       "array([[1, 1, 1, 1],\n",
       "       [1, 2, 4, 8],\n",
       "       [1, 3, 9, 27],\n",
       "       [1, 5, 25, 125]], dtype=object)"
      ]
     },
     "execution_count": 49,
     "metadata": {},
     "output_type": "execute_result"
    }
   ],
   "source": [
    "AlexandreTheophileVandermode([1,2,3,5],increasing = True)"
   ]
  },
  {
   "cell_type": "code",
   "execution_count": 50,
   "id": "4f832785",
   "metadata": {},
   "outputs": [
    {
     "data": {
      "text/plain": [
       "array([[1, 1, 1, 1],\n",
       "       [8, 4, 2, 1],\n",
       "       [27, 9, 3, 1],\n",
       "       [125, 25, 5, 1]], dtype=object)"
      ]
     },
     "execution_count": 50,
     "metadata": {},
     "output_type": "execute_result"
    }
   ],
   "source": [
    "AlexandreTheophileVandermode([1,2,3,5],increasing = False)"
   ]
  },
  {
   "cell_type": "code",
   "execution_count": 51,
   "id": "946ced58",
   "metadata": {},
   "outputs": [
    {
     "data": {
      "text/plain": [
       "array([[1, 1, 1, 1],\n",
       "       [8, 4, 2, 1],\n",
       "       [27, 9, 3, 1],\n",
       "       [125, 25, 5, 1]], dtype=object)"
      ]
     },
     "execution_count": 51,
     "metadata": {},
     "output_type": "execute_result"
    }
   ],
   "source": [
    "AlexandreTheophileVandermode([1,2,3,5])"
   ]
  },
  {
   "cell_type": "markdown",
   "id": "78892589",
   "metadata": {},
   "source": [
    "Problem Statement 2:\n",
    "Given a sequence of n values x1, x2, ..., xn and a window size k>0, the k-th moving average of\n",
    "the given sequence is defined as follows:\n",
    "The moving average sequence has n-k+1 elements as shown below.\n",
    "The moving averages with k=4 of a ten-value sequence (n=10) is shown below\n",
    "i 1 2 3 4 5 6 7 8 9 10\n",
    "===== == == == == == == == == == ==\n",
    "Input 10 20 30 40 50 60 70 80 90 100\n",
    "y1 25 = (10+20+30+40)/4\n",
    "y2 35 = (20+30+40+50)/4\n",
    "y3 45 = (30+40+50+60)/4\n",
    "y4 55 = (40+50+60+70)/4\n",
    "y5 65 = (50+60+70+80)/4\n",
    "y6 75 = (60+70+80+90)/4\n",
    "y7 85 = (70+80+90+100)/4\n",
    "Thus, the moving average sequence has n-k+1=10-4+1=7 values."
   ]
  },
  {
   "cell_type": "code",
   "execution_count": 52,
   "id": "41df01b8",
   "metadata": {},
   "outputs": [],
   "source": [
    "def MovingAverageSequence(input,windowsize):\n",
    "    if(windowsize>0):\n",
    "        input_len = len(input)\n",
    "        output_len = input_len-windowsize+1\n",
    "        output = np.empty(output_len,dtype=object)\n",
    "        for i in range(output_len):\n",
    "            output[i] = int(np.sum(input[i:i+windowsize])/windowsize)\n",
    "        return output\n",
    "    else:\n",
    "        print(\"Window size should be greater than 0\")"
   ]
  },
  {
   "cell_type": "code",
   "execution_count": 53,
   "id": "f09f31a2",
   "metadata": {},
   "outputs": [
    {
     "data": {
      "text/plain": [
       "array([25, 35, 45, 55, 65, 75, 85], dtype=object)"
      ]
     },
     "execution_count": 53,
     "metadata": {},
     "output_type": "execute_result"
    }
   ],
   "source": [
    "input =[10,20,30,40,50,60,70,80,90,100]\n",
    "MovingAverageSequence(input,4)"
   ]
  },
  {
   "cell_type": "code",
   "execution_count": 54,
   "id": "6a1af2fc",
   "metadata": {},
   "outputs": [
    {
     "data": {
      "text/plain": [
       "array([3, 4, 5, 6, 7, 8, 9, 10, 11, 12, 13], dtype=object)"
      ]
     },
     "execution_count": 54,
     "metadata": {},
     "output_type": "execute_result"
    }
   ],
   "source": [
    "input=[1,2,3,4,5,6,7,8,9,10,11,12,13,14,15]\n",
    "MovingAverageSequence(input,5)"
   ]
  },
  {
   "cell_type": "code",
   "execution_count": 55,
   "id": "449cc755",
   "metadata": {},
   "outputs": [
    {
     "data": {
      "text/plain": [
       "array([5, 4, 5, 6, 9, 28, 49, 72, 84, 93, 116], dtype=object)"
      ]
     },
     "execution_count": 55,
     "metadata": {},
     "output_type": "execute_result"
    }
   ],
   "source": [
    "input = [3,5,7,2,8,10,11,65,72,81,99,100,150]\n",
    "MovingAverageSequence(input,3)"
   ]
  },
  {
   "cell_type": "code",
   "execution_count": null,
   "id": "b3328757",
   "metadata": {},
   "outputs": [],
   "source": []
  },
  {
   "cell_type": "code",
   "execution_count": null,
   "id": "9cb7dfaf",
   "metadata": {},
   "outputs": [],
   "source": []
  },
  {
   "cell_type": "code",
   "execution_count": null,
   "id": "4e54caa1",
   "metadata": {},
   "outputs": [],
   "source": []
  },
  {
   "cell_type": "code",
   "execution_count": null,
   "id": "d0efbafd",
   "metadata": {},
   "outputs": [],
   "source": []
  },
  {
   "cell_type": "code",
   "execution_count": null,
   "id": "aa1f302f",
   "metadata": {},
   "outputs": [],
   "source": []
  },
  {
   "cell_type": "code",
   "execution_count": null,
   "id": "dffdf255",
   "metadata": {},
   "outputs": [],
   "source": []
  },
  {
   "cell_type": "code",
   "execution_count": null,
   "id": "e994172a",
   "metadata": {},
   "outputs": [],
   "source": []
  },
  {
   "cell_type": "code",
   "execution_count": null,
   "id": "32ed5dd4",
   "metadata": {},
   "outputs": [],
   "source": []
  },
  {
   "cell_type": "code",
   "execution_count": null,
   "id": "f804f65c",
   "metadata": {},
   "outputs": [],
   "source": []
  },
  {
   "cell_type": "code",
   "execution_count": null,
   "id": "6481c3f3",
   "metadata": {},
   "outputs": [],
   "source": []
  },
  {
   "cell_type": "code",
   "execution_count": null,
   "id": "9b707552",
   "metadata": {},
   "outputs": [],
   "source": []
  },
  {
   "cell_type": "code",
   "execution_count": null,
   "id": "f87b6f25",
   "metadata": {},
   "outputs": [],
   "source": []
  }
 ],
 "metadata": {
  "kernelspec": {
   "display_name": "Python 3 (ipykernel)",
   "language": "python",
   "name": "python3"
  },
  "language_info": {
   "codemirror_mode": {
    "name": "ipython",
    "version": 3
   },
   "file_extension": ".py",
   "mimetype": "text/x-python",
   "name": "python",
   "nbconvert_exporter": "python",
   "pygments_lexer": "ipython3",
   "version": "3.9.12"
  }
 },
 "nbformat": 4,
 "nbformat_minor": 5
}
